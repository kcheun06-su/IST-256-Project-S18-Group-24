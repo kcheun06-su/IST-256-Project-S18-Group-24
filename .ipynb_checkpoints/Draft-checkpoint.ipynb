{
 "cells": [
  {
   "cell_type": "code",
   "execution_count": 11,
   "metadata": {},
   "outputs": [],
   "source": [
    "import requests\n",
    "import json\n",
    "import pandas as pd\n",
    "import folium\n",
    "import warnings\n",
    "(warnings.filterwarnings('ignore'))\n",
    "\n",
    "\n",
    "##the function to help user find the perfect recipe they want\n",
    "def recipefinder(food, calories, amount, health_options):\n",
    "    \n",
    "    if health_options.lower() == \"no\":\n",
    "        url = \"https://api.edamam.com/search?q=\"+food+\"&app_id=22fe6955&app_key=a8701478a52245bcee06a8c8333289a6&from=0&to=\"+amount+\"&calories=\"+calories\n",
    "        response = requests.get(url)\n",
    "        recipes = response.json()\n",
    "        return recipes\n",
    "    \n",
    "    else:\n",
    "        url =\"https://api.edamam.com/search?q=\"+food+\"&app_id=22fe6955&app_key=a8701478a52245bcee06a8c8333289a6&from=0&to=\"+amount+\"&calories=\"+calories+\"&excluded=\"+health_options\n",
    "        response = requests.get(url)\n",
    "        recipes = response.json()\n",
    "        return recipes \n",
    "\n",
    "def nearbygrocerystores(location):\n",
    "    params = {}\n",
    "    params[\"term\"] = \"grocery store\"\n",
    "    params[\"location\"] =location\n",
    "\n",
    "    token = \"QpgOEI29NHp0IosYkVAneBhWrIKJBDpnfKmu1xEDua5Y1exka_FLmXcxzj9Ir7IcBtKMfqAY-QxYujYcTpRvmbeet0hzrU-KPAKD_BbrHiCdjKVVcWoD6R0D0S3vWnYx\"\n",
    "    headers = {'Authorization': 'Bearer %s' % token}\n",
    "\n",
    "    url = \"https://api.yelp.com/v3/businesses/search\"\n",
    "    request = requests.get(url, params=params, headers=headers)\n",
    "\n",
    "    data = request.json()\n",
    "    return data"
   ]
  },
  {
   "cell_type": "code",
   "execution_count": 15,
   "metadata": {},
   "outputs": [
    {
     "name": "stdout",
     "output_type": "stream",
     "text": [
      "Please enter a ingredient you want to cook: \n",
      "Please enter your desired calorie limit ex.(500): \n",
      "Are you allergic to anything? If yes, enter the thing you are allergic of. If no, just enter \"no\": no\n",
      "How many options do you want to see? 4\n",
      "Invalid inputs. Please follow the instructions and try again.\n",
      "Please enter a ingredient you want to cook: chicken\n",
      "Please enter your desired calorie limit ex.(500): 500\n",
      "Are you allergic to anything? If yes, enter the thing you are allergic of. If no, just enter \"no\": no\n",
      "How many options do you want to see? 3\n",
      "Results: \n",
      "1 Teriyaki Chicken\n",
      "2 Chicken Teriyaki\n",
      "3 Chicken Satay\n",
      "Indicate which recipe (number) you would like more details on. If you want to restart your search, enter \"r\": 3\n",
      "Do you want to see the nutrition facts of this recipe? Yes\n"
     ]
    }
   ],
   "source": [
    "while True:\n",
    "    try:\n",
    "        user_input_food = input(\"Please enter a ingredient you want to cook: \")\n",
    "        user_input_calories = input(\"Please enter your desired calorie limit ex.(500): \")\n",
    "        user_input_allergy = input(\"Are you allergic to anything? If yes, enter the thing you are allergic of. If no, just enter \\\"no\\\": \")\n",
    "        user_input_amount = input(\"How many options do you want to see? \")\n",
    "        results = recipefinder(user_input_food, user_input_calories, user_input_amount, user_input_allergy)\n",
    "    except json.decoder.JSONDecodeError:\n",
    "        print(\"Invalid inputs. Please follow the instructions and try again.\")\n",
    "        continue\n",
    "    list_recipes = []\n",
    "    count = 1\n",
    "    \n",
    "    print(\"Results: \")\n",
    "    for hit in results['hits']:\n",
    "        recipe_name = hit['recipe']['label']\n",
    "        list_recipes.append(recipe_name)\n",
    "        print(count, recipe_name)\n",
    "        count += 1\n",
    "    \n",
    "    try:\n",
    "        recipe_choice = input(\"Indicate which recipe (number) you would like more details on. If you want to restart your search, enter \\\"r\\\": \")\n",
    "        if recipe_choice == 'r':\n",
    "            continue\n",
    "        else:\n",
    "            user_choice_nutrition = input(\"Do you want to see the nutrition facts of this recipe? \")\n",
    "            if user_choice_nutrition.lower() == \"yes\":\n",
    "                \n",
    "                nutrition_fat = pd.Series(data = results['hits'][int(recipe_choice)-1]['recipe']['totalNutrients']['FAT'])\n",
    "                nutrition_sugar = pd.Series(data = results['hits'][int(recipe_choice)-1]['recipe']['totalNutrients']['SUGAR'])\n",
    "                nutrition_protein = pd.Series(data = results['hits'][int(recipe_choice)-1]['recipe']['totalNutrients']['PROCNT'])\n",
    "                nutrition_ca = pd.Series(data = results['hits'][int(recipe_choice)-1]['recipe']['totalNutrients']['CA'])\n",
    "                nutrition_fe = pd.Series(data = results['hits'][int(recipe_choice)-1]['recipe']['totalNutrients']['FE'])\n",
    "                nutrition_mg = pd.Series(data = results['hits'][int(recipe_choice)-1]['recipe']['totalNutrients']['MG'])\n",
    "                nutrition_zn = pd.Series(data = results['hits'][int(recipe_choice)-1]['recipe']['totalNutrients']['ZN'])\n",
    "\n",
    "                nutrition_dict = {'1': nutrition_fat, '2': nutrition_sugar, '3': nutrition_protein, \n",
    "                                  '4': nutrition_ca, '5': nutrition_fe, '6': nutrition_zn, '7': nutrition_mg}\n",
    "                nutrition_df = pd.DataFrame(nutrition_dict)\n",
    "                nutrition_df = nutrition_df[['1','2','3','4','5','6','7']]\n",
    "                \n",
    "                nutrition_df                \n",
    "            else:\n",
    "                print(\"FOR NOW\")\n",
    "            \n",
    "    except ValueError:\n",
    "        print(\"Please enter an integer or 'r'. \")\n",
    "    break"
   ]
  },
  {
   "cell_type": "code",
   "execution_count": 16,
   "metadata": {},
   "outputs": [
    {
     "data": {
      "text/html": [
       "<div>\n",
       "<style scoped>\n",
       "    .dataframe tbody tr th:only-of-type {\n",
       "        vertical-align: middle;\n",
       "    }\n",
       "\n",
       "    .dataframe tbody tr th {\n",
       "        vertical-align: top;\n",
       "    }\n",
       "\n",
       "    .dataframe thead th {\n",
       "        text-align: right;\n",
       "    }\n",
       "</style>\n",
       "<table border=\"1\" class=\"dataframe\">\n",
       "  <thead>\n",
       "    <tr style=\"text-align: right;\">\n",
       "      <th></th>\n",
       "      <th>1</th>\n",
       "      <th>2</th>\n",
       "      <th>3</th>\n",
       "      <th>4</th>\n",
       "      <th>5</th>\n",
       "      <th>6</th>\n",
       "      <th>7</th>\n",
       "    </tr>\n",
       "  </thead>\n",
       "  <tbody>\n",
       "    <tr>\n",
       "      <th>label</th>\n",
       "      <td>Fat</td>\n",
       "      <td>Sugars</td>\n",
       "      <td>Protein</td>\n",
       "      <td>Calcium</td>\n",
       "      <td>Iron</td>\n",
       "      <td>Zinc</td>\n",
       "      <td>Magnesium</td>\n",
       "    </tr>\n",
       "    <tr>\n",
       "      <th>quantity</th>\n",
       "      <td>61.9904</td>\n",
       "      <td>7.14473</td>\n",
       "      <td>267.788</td>\n",
       "      <td>121.328</td>\n",
       "      <td>6.70204</td>\n",
       "      <td>9.94251</td>\n",
       "      <td>491.919</td>\n",
       "    </tr>\n",
       "    <tr>\n",
       "      <th>unit</th>\n",
       "      <td>g</td>\n",
       "      <td>g</td>\n",
       "      <td>g</td>\n",
       "      <td>mg</td>\n",
       "      <td>mg</td>\n",
       "      <td>mg</td>\n",
       "      <td>mg</td>\n",
       "    </tr>\n",
       "  </tbody>\n",
       "</table>\n",
       "</div>"
      ],
      "text/plain": [
       "                1        2        3        4        5        6          7\n",
       "label         Fat   Sugars  Protein  Calcium     Iron     Zinc  Magnesium\n",
       "quantity  61.9904  7.14473  267.788  121.328  6.70204  9.94251    491.919\n",
       "unit            g        g        g       mg       mg       mg         mg"
      ]
     },
     "execution_count": 16,
     "metadata": {},
     "output_type": "execute_result"
    }
   ],
   "source": [
    "nutrition_df"
   ]
  },
  {
   "cell_type": "code",
   "execution_count": 9,
   "metadata": {},
   "outputs": [
    {
     "name": "stdout",
     "output_type": "stream",
     "text": [
      "Where are you right now? Syracuse, NY\n"
     ]
    },
    {
     "data": {
      "text/html": [
       "<div style=\"width:100%;\"><div style=\"position:relative;width:100%;height:0;padding-bottom:60%;\"><iframe src=\"data:text/html;charset=utf-8;base64,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\" style=\"position:absolute;width:100%;height:100%;left:0;top:0;border:none !important;\" allowfullscreen webkitallowfullscreen mozallowfullscreen></iframe></div></div>"
      ],
      "text/plain": [
       "<folium.folium.Map at 0x27e86a52a20>"
      ]
     },
     "execution_count": 9,
     "metadata": {},
     "output_type": "execute_result"
    }
   ],
   "source": [
    "user_location = input(\"Where are you right now? \")\n",
    "\n",
    "data = nearbygrocerystores(user_location)\n",
    "center = (data['businesses'][0]['coordinates']['latitude'], data['businesses'][0]['coordinates']['longitude'])\n",
    "\n",
    "map = folium.Map(location = center, zoom_start = 10)\n",
    "\n",
    "grocery_stores = data['businesses']\n",
    "\n",
    "for grocery_store in grocery_stores:\n",
    "    lat = grocery_store['coordinates']['latitude']\n",
    "    long = grocery_store['coordinates']['longitude']\n",
    "    pos = (lat, long)\n",
    "    annotation = folium.Popup(grocery_store['name'], parse_html=True)\n",
    "    marker = folium.Marker(location = pos, popup = annotation)\n",
    "    map.add_children(marker)\n",
    "map"
   ]
  },
  {
   "cell_type": "code",
   "execution_count": null,
   "metadata": {},
   "outputs": [],
   "source": []
  }
 ],
 "metadata": {
  "kernelspec": {
   "display_name": "Python 3",
   "language": "python",
   "name": "python3"
  },
  "language_info": {
   "codemirror_mode": {
    "name": "ipython",
    "version": 3
   },
   "file_extension": ".py",
   "mimetype": "text/x-python",
   "name": "python",
   "nbconvert_exporter": "python",
   "pygments_lexer": "ipython3",
   "version": "3.6.3"
  }
 },
 "nbformat": 4,
 "nbformat_minor": 2
}
