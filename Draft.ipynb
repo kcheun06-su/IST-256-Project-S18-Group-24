{
 "cells": [
  {
   "cell_type": "code",
   "execution_count": 1,
   "metadata": {},
   "outputs": [
    {
     "name": "stdout",
     "output_type": "stream",
     "text": [
      "Please enter a ingredient you want to cook: chicken\n",
      "Please enter your desired calorie limit: 300\n",
      "Results: \n",
      "1 Chicken Teriyaki\n",
      "2 Baked Chicken\n",
      "3 Chicken Meatballs\n",
      "4 Chicken Stock\n",
      "Indicate which recipe (number) you would like more details on. If you want to restart your search, enter \"r\" 1\n"
     ]
    },
    {
     "ename": "IndexError",
     "evalue": "list index out of range",
     "output_type": "error",
     "traceback": [
      "\u001b[1;31m---------------------------------------------------------------------------\u001b[0m",
      "\u001b[1;31mIndexError\u001b[0m                                Traceback (most recent call last)",
      "\u001b[1;32m<ipython-input-1-78321fd54921>\u001b[0m in \u001b[0;36m<module>\u001b[1;34m()\u001b[0m\n\u001b[0;32m     29\u001b[0m             \u001b[1;32mcontinue\u001b[0m\u001b[1;33m\u001b[0m\u001b[0m\n\u001b[0;32m     30\u001b[0m         \u001b[1;32melse\u001b[0m\u001b[1;33m:\u001b[0m\u001b[1;33m\u001b[0m\u001b[0m\n\u001b[1;32m---> 31\u001b[1;33m             \u001b[0mprint\u001b[0m\u001b[1;33m(\u001b[0m\u001b[0mlist_recipes\u001b[0m\u001b[1;33m[\u001b[0m\u001b[0mcount\u001b[0m\u001b[1;33m-\u001b[0m\u001b[1;36m1\u001b[0m\u001b[1;33m]\u001b[0m\u001b[1;33m)\u001b[0m\u001b[1;33m\u001b[0m\u001b[0m\n\u001b[0m\u001b[0;32m     32\u001b[0m     \u001b[1;32mexcept\u001b[0m \u001b[0mValueError\u001b[0m\u001b[1;33m:\u001b[0m\u001b[1;33m\u001b[0m\u001b[0m\n\u001b[0;32m     33\u001b[0m         \u001b[0mprint\u001b[0m\u001b[1;33m(\u001b[0m\u001b[1;34m\"Please enter an integer or 'r'. \"\u001b[0m\u001b[1;33m)\u001b[0m\u001b[1;33m\u001b[0m\u001b[0m\n",
      "\u001b[1;31mIndexError\u001b[0m: list index out of range"
     ]
    }
   ],
   "source": [
    "import requests\n",
    "import json\n",
    "app_id = \"22fe6955\"\n",
    "\n",
    "def recipefinder(food, calories):\n",
    "    url = \"https://api.edamam.com/search?q=\"+food+\"&app_id=\"+app_id+\"&app_key=a8701478a52245bcee06a8c8333289a6&from=0&to=4&calories=\"+calories\n",
    "\n",
    "    response = requests.get(url)\n",
    "    recipes = response.json()\n",
    "    return recipes\n",
    "\n",
    "while True:\n",
    "    user_input_food = input(\"Please enter a ingredient you want to cook: \")\n",
    "    user_input_calories = input(\"Please enter your desired calorie limit: \")\n",
    "    results = recipefinder(user_input_food, user_input_calories)\n",
    "    list_recipes = []\n",
    "    count = 1\n",
    "    \n",
    "    print(\"Results: \")\n",
    "    for hit in results['hits']:\n",
    "        recipes = hit['recipe']['label']\n",
    "        list_recipes.append(recipes)\n",
    "        print(count, recipes)\n",
    "        count += 1\n",
    "    \n",
    "    try:\n",
    "        recipe_choice = input(\"Indicate which recipe (number) you would like more details on. If you want to restart your search, enter \\\"r\\\" \")\n",
    "        if recipe_choice == 'r':\n",
    "            continue\n",
    "        else:\n",
    "            print(list_recipes[count-1])\n",
    "    except ValueError:\n",
    "        print(\"Please enter an integer or 'r'. \")\n",
    "    break"
   ]
  },
  {
   "cell_type": "code",
   "execution_count": null,
   "metadata": {},
   "outputs": [],
   "source": []
  }
 ],
 "metadata": {
  "kernelspec": {
   "display_name": "Python 3",
   "language": "python",
   "name": "python3"
  },
  "language_info": {
   "codemirror_mode": {
    "name": "ipython",
    "version": 3
   },
   "file_extension": ".py",
   "mimetype": "text/x-python",
   "name": "python",
   "nbconvert_exporter": "python",
   "pygments_lexer": "ipython3",
   "version": "3.6.3"
  }
 },
 "nbformat": 4,
 "nbformat_minor": 2
}
