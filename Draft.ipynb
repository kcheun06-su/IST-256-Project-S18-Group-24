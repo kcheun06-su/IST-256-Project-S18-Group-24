{
 "cells": [
  {
   "cell_type": "code",
   "execution_count": 11,
   "metadata": {},
   "outputs": [],
   "source": [
    "import requests\n",
    "import json\n",
    "import pandas as pd\n",
    "import warnings\n",
    "(warnings.filterwarnings('ignore'))\n",
    "\n",
    "\n",
    "##the function to help user find the perfect recipe they want\n",
    "def recipefinder(food, calories, amount, health_options):\n",
    "    \n",
    "    if health_options == \"no\":\n",
    "        url = \"https://api.edamam.com/search?q=\"+food+\"&app_id=22fe6955&app_key=a8701478a52245bcee06a8c8333289a6&from=0&to=\"+amount+\"&calories=\"+calories\n",
    "        response = requests.get(url)\n",
    "        recipes = response.json()\n",
    "        return recipes\n",
    "    \n",
    "    else:\n",
    "        url =\"https://api.edamam.com/search?q=\"+food+\"&app_id=22fe6955&app_key=a8701478a52245bcee06a8c8333289a6&from=0&to=\"+amount+\"&calories=\"+calories+\"&excluded=\"+health_options\n",
    "        response = requests.get(url)\n",
    "        recipes = response.json()\n",
    "        return recipes \n",
    "\n",
    "    "
   ]
  },
  {
   "cell_type": "code",
   "execution_count": null,
   "metadata": {},
   "outputs": [
    {
     "name": "stdout",
     "output_type": "stream",
     "text": [
      "Please enter a ingredient you want to cook: fish\n",
      "Please enter your desired calorie limit ex.(500): 1000\n",
      "Are you allergic to anything? If yes, enter the thing you are allergic of. If no, just enter \"no\": no\n"
     ]
    }
   ],
   "source": [
    "while True:\n",
    "    user_input_food = input(\"Please enter a ingredient you want to cook: \")\n",
    "    user_input_calories = input(\"Please enter your desired calorie limit ex.(500): \")\n",
    "    user_input_allergy = input(\"Are you allergic to anything? If yes, enter the thing you are allergic of. If no, just enter \\\"no\\\": \")\n",
    "    user_input_amount = input(\"How many options do you want to see? \")\n",
    "    results = recipefinder(user_input_food, user_input_calories, user_input_amount, user_input_allergy)\n",
    "    list_recipes = []\n",
    "    count = 1\n",
    "    \n",
    "    print(\"Results: \")\n",
    "    for hit in results['hits']:\n",
    "        recipe_name = hit['recipe']['label']\n",
    "        list_recipes.append(recipe_name)\n",
    "        print(count, recipe_name)\n",
    "        count += 1\n",
    "    \n",
    "    try:\n",
    "        recipe_choice = input(\"Indicate which recipe (number) you would like more details on. If you want to restart your search, enter \\\"r\\\": \")\n",
    "        if recipe_choice == 'r':\n",
    "            continue\n",
    "        else:\n",
    "            user_choice = input(\"Do you want to see the nutrition facts of this recipe? \")\n",
    "            if user_choice == \"Yes\":\n",
    "                \n",
    "                nutrition_fat = pd.Series(data = results['hits'][int(recipe_choice)-1]['recipe']['totalNutrients']['FAT'])\n",
    "                nutrition_sugar = pd.Series(data = results['hits'][int(recipe_choice)-1]['recipe']['totalNutrients']['SUGAR'])\n",
    "                nutrition_protein = pd.Series(data = results['hits'][int(recipe_choice)-1]['recipe']['totalNutrients']['PROCNT'])\n",
    "                nutrition_ca = pd.Series(data = results['hits'][int(recipe_choice)-1]['recipe']['totalNutrients']['CA'])\n",
    "                nutrition_fe = pd.Series(data = results['hits'][int(recipe_choice)-1]['recipe']['totalNutrients']['FE'])\n",
    "                nutrition_mg = pd.Series(data = results['hits'][int(recipe_choice)-1]['recipe']['totalNutrients']['MG'])\n",
    "                nutrition_zn = pd.Series(data = results['hits'][int(recipe_choice)-1]['recipe']['totalNutrients']['ZN'])\n",
    "\n",
    "                nutrition_dict = {'1': nutrition_fat, '2': nutrition_sugar, '3': nutrition_protein, \n",
    "                                  '4': nutrition_ca, '5': nutrition_fe, '6': nutrition_zn, '7': nutrition_mg}\n",
    "                nutrition_df = pd.DataFrame(nutrition_dict)\n",
    "                nutrition_df = nutrition_df[['1','2','3','4','5','6','7']]\n",
    "                nutrition_df                \n",
    "            else:\n",
    "                print(\"FOR NOW\")\n",
    "            \n",
    "    except ValueError:\n",
    "        print(\"Please enter an integer or 'r'. \")\n",
    "        \n",
    "    break"
   ]
  },
  {
   "cell_type": "code",
   "execution_count": 14,
   "metadata": {},
   "outputs": [
    {
     "data": {
      "text/html": [
       "<div>\n",
       "<style scoped>\n",
       "    .dataframe tbody tr th:only-of-type {\n",
       "        vertical-align: middle;\n",
       "    }\n",
       "\n",
       "    .dataframe tbody tr th {\n",
       "        vertical-align: top;\n",
       "    }\n",
       "\n",
       "    .dataframe thead th {\n",
       "        text-align: right;\n",
       "    }\n",
       "</style>\n",
       "<table border=\"1\" class=\"dataframe\">\n",
       "  <thead>\n",
       "    <tr style=\"text-align: right;\">\n",
       "      <th></th>\n",
       "      <th>1</th>\n",
       "      <th>2</th>\n",
       "      <th>3</th>\n",
       "      <th>4</th>\n",
       "      <th>5</th>\n",
       "      <th>6</th>\n",
       "      <th>7</th>\n",
       "    </tr>\n",
       "  </thead>\n",
       "  <tbody>\n",
       "    <tr>\n",
       "      <th>label</th>\n",
       "      <td>Fat</td>\n",
       "      <td>Sugars</td>\n",
       "      <td>Protein</td>\n",
       "      <td>Calcium</td>\n",
       "      <td>Iron</td>\n",
       "      <td>Zinc</td>\n",
       "      <td>Magnesium</td>\n",
       "    </tr>\n",
       "    <tr>\n",
       "      <th>quantity</th>\n",
       "      <td>56.3333</td>\n",
       "      <td>3.335</td>\n",
       "      <td>115.102</td>\n",
       "      <td>178.354</td>\n",
       "      <td>6.44037</td>\n",
       "      <td>3.11941</td>\n",
       "      <td>170.21</td>\n",
       "    </tr>\n",
       "    <tr>\n",
       "      <th>unit</th>\n",
       "      <td>g</td>\n",
       "      <td>g</td>\n",
       "      <td>g</td>\n",
       "      <td>mg</td>\n",
       "      <td>mg</td>\n",
       "      <td>mg</td>\n",
       "      <td>mg</td>\n",
       "    </tr>\n",
       "  </tbody>\n",
       "</table>\n",
       "</div>"
      ],
      "text/plain": [
       "                1       2        3        4        5        6          7\n",
       "label         Fat  Sugars  Protein  Calcium     Iron     Zinc  Magnesium\n",
       "quantity  56.3333   3.335  115.102  178.354  6.44037  3.11941     170.21\n",
       "unit            g       g        g       mg       mg       mg         mg"
      ]
     },
     "execution_count": 14,
     "metadata": {},
     "output_type": "execute_result"
    }
   ],
   "source": [
    "nutrition_df"
   ]
  },
  {
   "cell_type": "code",
   "execution_count": null,
   "metadata": {},
   "outputs": [],
   "source": []
  }
 ],
 "metadata": {
  "kernelspec": {
   "display_name": "Python 3",
   "language": "python",
   "name": "python3"
  },
  "language_info": {
   "codemirror_mode": {
    "name": "ipython",
    "version": 3
   },
   "file_extension": ".py",
   "mimetype": "text/x-python",
   "name": "python",
   "nbconvert_exporter": "python",
   "pygments_lexer": "ipython3",
   "version": "3.6.4"
  }
 },
 "nbformat": 4,
 "nbformat_minor": 2
}
