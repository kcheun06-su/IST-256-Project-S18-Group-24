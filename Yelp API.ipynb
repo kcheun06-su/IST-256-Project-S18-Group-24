{
 "cells": [
  {
   "cell_type": "code",
   "execution_count": 8,
   "metadata": {},
   "outputs": [
    {
     "name": "stdout",
     "output_type": "stream",
     "text": [
      "what would you like to eat? chicken\n",
      "Where are you right now? new york\n"
     ]
    },
    {
     "data": {
      "text/plain": [
       "{'error': {'code': 'NOT_FOUND', 'description': 'Resource could not be found.'}}"
      ]
     },
     "execution_count": 8,
     "metadata": {},
     "output_type": "execute_result"
    }
   ],
   "source": [
    "import requests, json\n",
    "API_key = \"QpgOEI29NHp0IosYkVAneBhWrIKJBDpnfKmu1xEDua5Y1exka_FLmXcxzj9Ir7IcBtKMfqAY-QxYujYcTpRvmbeet0hzrU-KPAKD_BbrHiCdjKVVcWoD6R0D0S3vWnYx\"\n",
    "user_food = input(\"what would you like to eat? \")\n",
    "user_location = input(\"Where are you right now? \")\n",
    "url = 'https://api.yelp.com/v3/businesses/search/v3/businesses/'+API_key\n",
    "\n",
    "response = requests.get(url)\n",
    "results = response.json()\n",
    "\n",
    "results"
   ]
  },
  {
   "cell_type": "code",
   "execution_count": null,
   "metadata": {},
   "outputs": [],
   "source": []
  }
 ],
 "metadata": {
  "kernelspec": {
   "display_name": "Python 3",
   "language": "python",
   "name": "python3"
  },
  "language_info": {
   "codemirror_mode": {
    "name": "ipython",
    "version": 3
   },
   "file_extension": ".py",
   "mimetype": "text/x-python",
   "name": "python",
   "nbconvert_exporter": "python",
   "pygments_lexer": "ipython3",
   "version": "3.6.3"
  }
 },
 "nbformat": 4,
 "nbformat_minor": 2
}
